{
 "cells": [
  {
   "cell_type": "code",
   "execution_count": 3,
   "metadata": {},
   "outputs": [
    {
     "ename": "IndentationError",
     "evalue": "expected an indented block (<ipython-input-3-93333ce2db04>, line 6)",
     "output_type": "error",
     "traceback": [
      "\u001b[1;36m  File \u001b[1;32m\"<ipython-input-3-93333ce2db04>\"\u001b[1;36m, line \u001b[1;32m6\u001b[0m\n\u001b[1;33m    \"\"\"Module finder that locates Jupyter Notebooks\"\"\"\u001b[0m\n\u001b[1;37m                                                     ^\u001b[0m\n\u001b[1;31mIndentationError\u001b[0m\u001b[1;31m:\u001b[0m expected an indented block\n"
     ]
    }
   ],
   "source": [
    "import io, os,sys,types\n",
    "from IPython import get_ipython\n",
    "from nbformat import read\n",
    "from IPython.core.interactiveshell import InteractiveShell\n",
    "class NotebookFinder(object):\n",
    "\"\"\"Module finder that locates Jupyter Notebooks\"\"\"\n",
    "def __init__(self):\n",
    "self.loaders = {}\n",
    "def find_module(self, fullname, path=None):\n",
    "nb_path = find_notebook(fullname, path)\n",
    "if not nb_path:\n",
    "return\n",
    "key = path\n",
    "if path:\n",
    "# lists aren't hashable\n",
    "key = os.path.sep.join(path)\n",
    "if key not in self.loaders:\n",
    "self.loaders[key] = NotebookLoader(path)\n",
    "return self.loaders[key]\n",
    "def find_notebook(fullname, path=None):\n",
    "\"\"\"find a notebook, given its fully qualified name and an optional path\n",
    "This turns \"foo.bar\" into \"foo/bar.ipynb\"\n",
    "and tries turning \"Foo_Bar\" into \"Foo Bar\" if Foo_Bar\n",
    "does not exist.\n",
    "\"\"\"\n",
    "name = fullname.rsplit('.', 1)[-1]\n",
    "if not path:\n",
    "path = ['']\n",
    "for d in path:\n",
    "nb_path = os.path.join(d, name   \".ipynb\")\n",
    "if os.path.isfile(nb_path):\n",
    "return nb_path\n",
    "# let import Notebook_Name find \"Notebook Name.ipynb\"\n",
    "nb_path = nb_path.replace(\"_\", \" \")\n",
    "if os.path.isfile(nb_path):\n",
    "return nb_path\n",
    "class NotebookLoader(object):\n",
    "\"\"\"Module Loader for Jupyter Notebooks\"\"\"\n",
    "def __init__(self, path=None):\n",
    "self.shell = InteractiveShell.instance()\n",
    "self.path = path\n",
    "def load_module(self, fullname):\n",
    "\"\"\"import a notebook as a module\"\"\"\n",
    "path = find_notebook(fullname, self.path)\n",
    "print (\"importing Jupyter notebook from %s\" % path)\n",
    "# load the notebook object\n",
    "with io.open(path, 'r', encoding='utf-8') as f:\n",
    "nb = read(f, 4)\n",
    "# create the module and add it to sys.modules\n",
    "# if name in sys.modules:\n",
    "#    return sys.modules[name]\n",
    "mod = types.ModuleType(fullname)\n",
    "mod.__file__ = path\n",
    "mod.__loader__ = self\n",
    "mod.__dict__['get_ipython'] = get_ipython\n",
    "sys.modules[fullname] = mod\n",
    "# extra work to ensure that magics that would affect the user_ns\n",
    "# actually affect the notebook module's ns\n",
    "save_user_ns = self.shell.user_ns\n",
    "self.shell.user_ns = mod.__dict__\n",
    "try:\n",
    "for cell in nb.cells:\n",
    "if cell.cell_type == 'code':\n",
    "# transform the input to executable Python\n",
    "code = self.shell.input_transformer_manager.transform_cell(cell.source)\n",
    "# run the code in themodule\n",
    "exec(code, mod.__dict__)\n",
    "finally:\n",
    "self.shell.user_ns = save_user_ns\n",
    "return mod\n",
    "sys.meta_path.append(NotebookFinder())"
   ]
  }
 ],
 "metadata": {
  "kernelspec": {
   "display_name": "Python 3",
   "language": "python",
   "name": "python3"
  },
  "language_info": {
   "codemirror_mode": {
    "name": "ipython",
    "version": 3
   },
   "file_extension": ".py",
   "mimetype": "text/x-python",
   "name": "python",
   "nbconvert_exporter": "python",
   "pygments_lexer": "ipython3",
   "version": "3.7.3"
  }
 },
 "nbformat": 4,
 "nbformat_minor": 2
}
